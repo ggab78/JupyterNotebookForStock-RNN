{
 "cells": [
  {
   "cell_type": "code",
   "execution_count": 1,
   "metadata": {},
   "outputs": [],
   "source": [
    "import click\n",
    "import os\n",
    "import numpy as np\n",
    "import pandas as pd\n",
    "import random\n",
    "import time\n",
    "from datetime import datetime\n",
    "import tensorflow as tf\n",
    "import tensorflow.contrib.slim as slim\n",
    "from io import BytesIO\n",
    "from zipfile import ZipFile\n",
    "from urllib.request import urlopen\n",
    "from data_model import StockDataSet\n",
    "from model_rnn import LstmRNN\n",
    "import matplotlib.pyplot as plt\n",
    "\n",
    "#All config parameters of Tensorflow\n",
    "flags = tf.app.flags\n",
    "flags.DEFINE_integer(\"stock_count\", 100, \"Stock count [100]\")\n",
    "flags.DEFINE_integer(\"input_size\", 1, \"Input size [1]\")\n",
    "flags.DEFINE_integer(\"num_steps\", 30, \"Num of steps [30]\")\n",
    "flags.DEFINE_integer(\"num_layers\", 1, \"Num of layer [1]\")\n",
    "flags.DEFINE_integer(\"lstm_size\", 128, \"Size of one LSTM cell [128]\")\n",
    "flags.DEFINE_integer(\"batch_size\", 64, \"The size of batch images [64]\")\n",
    "flags.DEFINE_float(\"keep_prob\", 0.8, \"Keep probability of dropout layer. [0.8]\")\n",
    "flags.DEFINE_float(\"init_learning_rate\", 0.001, \"Initial learning rate at early stage. [0.001]\")\n",
    "flags.DEFINE_float(\"learning_rate_decay\", 0.99, \"Decay rate of learning rate. [0.99]\")\n",
    "flags.DEFINE_integer(\"init_epoch\", 5, \"Num. of epoches considered as early stage. [5]\")\n",
    "flags.DEFINE_integer(\"max_epoch\", 50, \"Total training epoches. [50]\")\n",
    "flags.DEFINE_integer(\"embed_size\", None, \"If provided, use embedding vector of this size. [None]\")\n",
    "flags.DEFINE_string(\"stock_symbol\", \"WIG\", \"Target stock symbol [None]\")\n",
    "flags.DEFINE_integer(\"sample_size\", 4, \"Number of stocks to plot during training. [4]\")\n",
    "flags.DEFINE_boolean(\"train\", False, \"True for training, False for testing [False]\")\n",
    "flags.DEFINE_float(\"test_ratio\", 0.05, \"Test ratio. [0.05]\")\n",
    "FLAGS = flags.FLAGS\n",
    "\n",
    "DATA_DIR = \"stock_data\"\n",
    "NEW_DATA_DIR = \"new_stock_data\"\n",
    "MODEL_DIR = \"models\"\n",
    "BOSSA_PL_STOCK_DATA_URL = \"http://bossa.pl/pub/metastock/mstock/mstall.zip\"\n",
    "WIG_PATH = os.path.join(DATA_DIR, \"WIG.mst\")\n",
    "\n"
   ]
  },
  {
   "cell_type": "code",
   "execution_count": 2,
   "metadata": {},
   "outputs": [
    {
     "ename": "KeyboardInterrupt",
     "evalue": "",
     "output_type": "error",
     "traceback": [
      "\u001b[0;31m---------------------------------------------------------------------------\u001b[0m",
      "\u001b[0;31mKeyboardInterrupt\u001b[0m                         Traceback (most recent call last)",
      "\u001b[0;32m<ipython-input-2-d6323939be86>\u001b[0m in \u001b[0;36m<module>\u001b[0;34m()\u001b[0m\n\u001b[1;32m      6\u001b[0m    \u001b[0mos\u001b[0m\u001b[0;34m.\u001b[0m\u001b[0mmakedirs\u001b[0m\u001b[0;34m(\u001b[0m\u001b[0mtoday_dir\u001b[0m\u001b[0;34m)\u001b[0m\u001b[0;34m\u001b[0m\u001b[0m\n\u001b[1;32m      7\u001b[0m    \u001b[0mresp\u001b[0m \u001b[0;34m=\u001b[0m \u001b[0murlopen\u001b[0m\u001b[0;34m(\u001b[0m\u001b[0mBOSSA_PL_STOCK_DATA_URL\u001b[0m\u001b[0;34m)\u001b[0m\u001b[0;34m\u001b[0m\u001b[0m\n\u001b[0;32m----> 8\u001b[0;31m    \u001b[0mzipfile\u001b[0m \u001b[0;34m=\u001b[0m \u001b[0mZipFile\u001b[0m\u001b[0;34m(\u001b[0m\u001b[0mBytesIO\u001b[0m\u001b[0;34m(\u001b[0m\u001b[0mresp\u001b[0m\u001b[0;34m.\u001b[0m\u001b[0mread\u001b[0m\u001b[0;34m(\u001b[0m\u001b[0;34m)\u001b[0m\u001b[0;34m)\u001b[0m\u001b[0;34m)\u001b[0m\u001b[0;34m\u001b[0m\u001b[0m\n\u001b[0m\u001b[1;32m      9\u001b[0m    \u001b[0mzipfile\u001b[0m\u001b[0;34m.\u001b[0m\u001b[0mextractall\u001b[0m\u001b[0;34m(\u001b[0m\u001b[0mtoday_dir\u001b[0m\u001b[0;34m)\u001b[0m\u001b[0;34m\u001b[0m\u001b[0m\n",
      "\u001b[0;32m/opt/conda/lib/python3.6/http/client.py\u001b[0m in \u001b[0;36mread\u001b[0;34m(self, amt)\u001b[0m\n\u001b[1;32m    460\u001b[0m             \u001b[0;32melse\u001b[0m\u001b[0;34m:\u001b[0m\u001b[0;34m\u001b[0m\u001b[0m\n\u001b[1;32m    461\u001b[0m                 \u001b[0;32mtry\u001b[0m\u001b[0;34m:\u001b[0m\u001b[0;34m\u001b[0m\u001b[0m\n\u001b[0;32m--> 462\u001b[0;31m                     \u001b[0ms\u001b[0m \u001b[0;34m=\u001b[0m \u001b[0mself\u001b[0m\u001b[0;34m.\u001b[0m\u001b[0m_safe_read\u001b[0m\u001b[0;34m(\u001b[0m\u001b[0mself\u001b[0m\u001b[0;34m.\u001b[0m\u001b[0mlength\u001b[0m\u001b[0;34m)\u001b[0m\u001b[0;34m\u001b[0m\u001b[0m\n\u001b[0m\u001b[1;32m    463\u001b[0m                 \u001b[0;32mexcept\u001b[0m \u001b[0mIncompleteRead\u001b[0m\u001b[0;34m:\u001b[0m\u001b[0;34m\u001b[0m\u001b[0m\n\u001b[1;32m    464\u001b[0m                     \u001b[0mself\u001b[0m\u001b[0;34m.\u001b[0m\u001b[0m_close_conn\u001b[0m\u001b[0;34m(\u001b[0m\u001b[0;34m)\u001b[0m\u001b[0;34m\u001b[0m\u001b[0m\n",
      "\u001b[0;32m/opt/conda/lib/python3.6/http/client.py\u001b[0m in \u001b[0;36m_safe_read\u001b[0;34m(self, amt)\u001b[0m\n\u001b[1;32m    610\u001b[0m         \u001b[0ms\u001b[0m \u001b[0;34m=\u001b[0m \u001b[0;34m[\u001b[0m\u001b[0;34m]\u001b[0m\u001b[0;34m\u001b[0m\u001b[0m\n\u001b[1;32m    611\u001b[0m         \u001b[0;32mwhile\u001b[0m \u001b[0mamt\u001b[0m \u001b[0;34m>\u001b[0m \u001b[0;36m0\u001b[0m\u001b[0;34m:\u001b[0m\u001b[0;34m\u001b[0m\u001b[0m\n\u001b[0;32m--> 612\u001b[0;31m             \u001b[0mchunk\u001b[0m \u001b[0;34m=\u001b[0m \u001b[0mself\u001b[0m\u001b[0;34m.\u001b[0m\u001b[0mfp\u001b[0m\u001b[0;34m.\u001b[0m\u001b[0mread\u001b[0m\u001b[0;34m(\u001b[0m\u001b[0mmin\u001b[0m\u001b[0;34m(\u001b[0m\u001b[0mamt\u001b[0m\u001b[0;34m,\u001b[0m \u001b[0mMAXAMOUNT\u001b[0m\u001b[0;34m)\u001b[0m\u001b[0;34m)\u001b[0m\u001b[0;34m\u001b[0m\u001b[0m\n\u001b[0m\u001b[1;32m    613\u001b[0m             \u001b[0;32mif\u001b[0m \u001b[0;32mnot\u001b[0m \u001b[0mchunk\u001b[0m\u001b[0;34m:\u001b[0m\u001b[0;34m\u001b[0m\u001b[0m\n\u001b[1;32m    614\u001b[0m                 \u001b[0;32mraise\u001b[0m \u001b[0mIncompleteRead\u001b[0m\u001b[0;34m(\u001b[0m\u001b[0;34mb''\u001b[0m\u001b[0;34m.\u001b[0m\u001b[0mjoin\u001b[0m\u001b[0;34m(\u001b[0m\u001b[0ms\u001b[0m\u001b[0;34m)\u001b[0m\u001b[0;34m,\u001b[0m \u001b[0mamt\u001b[0m\u001b[0;34m)\u001b[0m\u001b[0;34m\u001b[0m\u001b[0m\n",
      "\u001b[0;32m/opt/conda/lib/python3.6/socket.py\u001b[0m in \u001b[0;36mreadinto\u001b[0;34m(self, b)\u001b[0m\n\u001b[1;32m    584\u001b[0m         \u001b[0;32mwhile\u001b[0m \u001b[0;32mTrue\u001b[0m\u001b[0;34m:\u001b[0m\u001b[0;34m\u001b[0m\u001b[0m\n\u001b[1;32m    585\u001b[0m             \u001b[0;32mtry\u001b[0m\u001b[0;34m:\u001b[0m\u001b[0;34m\u001b[0m\u001b[0m\n\u001b[0;32m--> 586\u001b[0;31m                 \u001b[0;32mreturn\u001b[0m \u001b[0mself\u001b[0m\u001b[0;34m.\u001b[0m\u001b[0m_sock\u001b[0m\u001b[0;34m.\u001b[0m\u001b[0mrecv_into\u001b[0m\u001b[0;34m(\u001b[0m\u001b[0mb\u001b[0m\u001b[0;34m)\u001b[0m\u001b[0;34m\u001b[0m\u001b[0m\n\u001b[0m\u001b[1;32m    587\u001b[0m             \u001b[0;32mexcept\u001b[0m \u001b[0mtimeout\u001b[0m\u001b[0;34m:\u001b[0m\u001b[0;34m\u001b[0m\u001b[0m\n\u001b[1;32m    588\u001b[0m                 \u001b[0mself\u001b[0m\u001b[0;34m.\u001b[0m\u001b[0m_timeout_occurred\u001b[0m \u001b[0;34m=\u001b[0m \u001b[0;32mTrue\u001b[0m\u001b[0;34m\u001b[0m\u001b[0m\n",
      "\u001b[0;31mKeyboardInterrupt\u001b[0m: "
     ]
    }
   ],
   "source": [
    "#Download newest stock data if not downloaded today and unzip\n",
    "today = datetime.now()\n",
    "today_dir = os.path.join(NEW_DATA_DIR, today.strftime('%Y%m%d'))\n",
    "\n",
    "if(not os.path.exists(today_dir)): \n",
    "   os.makedirs(today_dir)\n",
    "   resp = urlopen(BOSSA_PL_STOCK_DATA_URL)\n",
    "   zipfile = ZipFile(BytesIO(resp.read()))\n",
    "   zipfile.extractall(today_dir)"
   ]
  },
  {
   "cell_type": "code",
   "execution_count": 2,
   "metadata": {},
   "outputs": [
    {
     "data": {
      "text/plain": [
       "<matplotlib.axes._subplots.AxesSubplot at 0x7fb644a210f0>"
      ]
     },
     "execution_count": 2,
     "metadata": {},
     "output_type": "execute_result"
    },
    {
     "data": {
      "image/png": "[encoded data removed]",
      "text/plain": [
       "<matplotlib.figure.Figure at 0x7fb644cdc8d0>"
      ]
     },
     "metadata": {},
     "output_type": "display_data"
    }
   ],
   "source": [
    "df_wig = pd.read_csv(WIG_PATH)\n",
    "\n",
    "df_wig['<OPEN>'].plot()"
   ]
  },
  {
   "cell_type": "code",
   "execution_count": 4,
   "metadata": {},
   "outputs": [],
   "source": [
    "run_config = tf.ConfigProto()\n",
    "run_config.gpu_options.allow_growth = True"
   ]
  },
  {
   "cell_type": "code",
   "execution_count": 3,
   "metadata": {},
   "outputs": [
    {
     "name": "stdout",
     "output_type": "stream",
     "text": [
      "inputs.shape:(?, 30, 1)\n",
      "inputs_with_embed.shape:(?, 30, 1)\n"
     ]
    },
    {
     "name": "stderr",
     "output_type": "stream",
     "text": [
      "/opt/conda/lib/python3.6/site-packages/tensorflow/python/ops/gradients_impl.py:95: UserWarning: Converting sparse IndexedSlices to a dense Tensor of unknown shape. This may consume a large amount of memory.\n",
      "  \"Converting sparse IndexedSlices to a dense Tensor of unknown shape. \"\n"
     ]
    },
    {
     "name": "stdout",
     "output_type": "stream",
     "text": [
      " [*] Reading checkpoints...\n",
      "INFO:tensorflow:Restoring parameters from logs/stock_rnn_lstm128_step30_input1/stock_rnn_lstm128_step30_input1.model-4700\n",
      " [*] Success to read stock_rnn_lstm128_step30_input1.model-4700\n"
     ]
    }
   ],
   "source": [
    "\n",
    "with tf.Session(config=run_config) as sess:\n",
    "   rnn_model = LstmRNN(\n",
    "      sess,\n",
    "      FLAGS.stock_count,\n",
    "      lstm_size=FLAGS.lstm_size,\n",
    "      num_layers=FLAGS.num_layers,\n",
    "      num_steps=FLAGS.num_steps,\n",
    "      input_size=FLAGS.input_size,\n",
    "      embed_size=FLAGS.embed_size,\n",
    "   )\n",
    "   stock_data_list =  [\n",
    "      StockDataSet(\n",
    "         FLAGS.stock_symbol,\n",
    "         input_size=FLAGS.input_size,\n",
    "         num_steps=FLAGS.num_steps,\n",
    "         test_ratio=FLAGS.test_ratio)\n",
    "    ]\n",
    "   #rnn_model.train(stock_data_list, FLAGS)\n",
    "\n",
    "   #saver = tf.train.Saver()\n",
    "   #saver.save(sess, os.path.join(MODEL_DIR,graph_name, '.ckpt'))\n"
   ]
  },
  {
   "cell_type": "code",
   "execution_count": 5,
   "metadata": {},
   "outputs": [
    {
     "name": "stdout",
     "output_type": "stream",
     "text": [
      "inputs.shape:(?, 30, 1)\n",
      "inputs_with_embed.shape:(?, 30, 1)\n"
     ]
    },
    {
     "name": "stderr",
     "output_type": "stream",
     "text": [
      "/opt/conda/lib/python3.6/site-packages/tensorflow/python/ops/gradients_impl.py:95: UserWarning: Converting sparse IndexedSlices to a dense Tensor of unknown shape. This may consume a large amount of memory.\n",
      "  \"Converting sparse IndexedSlices to a dense Tensor of unknown shape. \"\n"
     ]
    },
    {
     "name": "stdout",
     "output_type": "stream",
     "text": [
      " [*] Reading checkpoints...\n",
      "INFO:tensorflow:Restoring parameters from logs/stock_rnn_lstm128_step30_input1/stock_rnn_lstm128_step30_input1.model-4700\n",
      " [*] Success to read stock_rnn_lstm128_step30_input1.model-4700\n"
     ]
    }
   ],
   "source": [
    "with tf.Session(config=run_config) as sess:\n",
    "   rnn_model = LstmRNN(\n",
    "      sess,\n",
    "      FLAGS.stock_count,\n",
    "      lstm_size=FLAGS.lstm_size,\n",
    "      num_layers=FLAGS.num_layers,\n",
    "      num_steps=FLAGS.num_steps,\n",
    "      input_size=FLAGS.input_size,\n",
    "      embed_size=FLAGS.embed_size,\n",
    "   )\n",
    " \n",
    "   rnn_model.load()[0]\n",
    "   stock_data_list =  StockDataSet(\n",
    "      \"WIG20\",\n",
    "      input_size=FLAGS.input_size,\n",
    "      num_steps=FLAGS.num_steps,\n",
    "      test_ratio=0.0)\n",
    "   \n",
    "\n",
    "   graph = tf.get_default_graph()\n",
    "\n",
    "   inputs = graph.get_tensor_by_name('inputs:0')\n",
    "   targets = graph.get_tensor_by_name('targets:0')\n",
    "   learning_rate = graph.get_tensor_by_name('learning_rate:0')\n",
    "   keep_prob = graph.get_tensor_by_name('keep_prob:0')\n",
    "\n",
    "   test_data_feed = {\n",
    "      inputs: stock_data_list.test_X,\n",
    "      targets: stock_data_list.test_y,\n",
    "      learning_rate: 0.0,\n",
    "      keep_prob: 1.0,\n",
    "    }\n",
    "   prediction = graph.get_tensor_by_name('pred:0')\n",
    "   loss = graph.get_tensor_by_name('loss_mse_test:0')\n",
    "   final_prediction, final_loss = sess.run([prediction, loss], test_data_feed)\n"
   ]
  },
  {
   "cell_type": "code",
   "execution_count": 7,
   "metadata": {},
   "outputs": [
    {
     "ename": "IndexError",
     "evalue": "index 0 is out of bounds for axis 0 with size 0",
     "output_type": "error",
     "traceback": [
      "\u001b[0;31m---------------------------------------------------------------------------\u001b[0m",
      "\u001b[0;31mIndexError\u001b[0m                                Traceback (most recent call last)",
      "\u001b[0;32m<ipython-input-7-b9af807e9455>\u001b[0m in \u001b[0;36m<module>\u001b[0;34m()\u001b[0m\n\u001b[1;32m      2\u001b[0m             \u001b[0;32mreturn\u001b[0m \u001b[0mnp\u001b[0m\u001b[0;34m.\u001b[0m\u001b[0marray\u001b[0m\u001b[0;34m(\u001b[0m\u001b[0;34m[\u001b[0m\u001b[0mx\u001b[0m \u001b[0;32mfor\u001b[0m \u001b[0my\u001b[0m \u001b[0;32min\u001b[0m \u001b[0mseq\u001b[0m \u001b[0;32mfor\u001b[0m \u001b[0mx\u001b[0m \u001b[0;32min\u001b[0m \u001b[0my\u001b[0m\u001b[0;34m]\u001b[0m\u001b[0;34m)\u001b[0m\u001b[0;34m\u001b[0m\u001b[0m\n\u001b[1;32m      3\u001b[0m \u001b[0;34m\u001b[0m\u001b[0m\n\u001b[0;32m----> 4\u001b[0;31m \u001b[0mtruths\u001b[0m \u001b[0;34m=\u001b[0m \u001b[0m_flatten\u001b[0m\u001b[0;34m(\u001b[0m\u001b[0mstock_data_list\u001b[0m\u001b[0;34m.\u001b[0m\u001b[0mtest_y\u001b[0m\u001b[0;34m[\u001b[0m\u001b[0;36m0\u001b[0m\u001b[0;34m]\u001b[0m\u001b[0;34m)\u001b[0m\u001b[0;34m[\u001b[0m\u001b[0;34m-\u001b[0m\u001b[0;36m200\u001b[0m\u001b[0;34m:\u001b[0m\u001b[0;34m]\u001b[0m\u001b[0;34m\u001b[0m\u001b[0m\n\u001b[0m\u001b[1;32m      5\u001b[0m \u001b[0;34m\u001b[0m\u001b[0m\n\u001b[1;32m      6\u001b[0m \u001b[0mpreds\u001b[0m \u001b[0;34m=\u001b[0m \u001b[0;34m(\u001b[0m\u001b[0m_flatten\u001b[0m\u001b[0;34m(\u001b[0m\u001b[0mfinal_prediction\u001b[0m\u001b[0;34m[\u001b[0m\u001b[0;36m0\u001b[0m\u001b[0;34m]\u001b[0m\u001b[0;34m)\u001b[0m \u001b[0;34m*\u001b[0m \u001b[0mmultiplier\u001b[0m\u001b[0;34m)\u001b[0m\u001b[0;34m[\u001b[0m\u001b[0;34m-\u001b[0m\u001b[0;36m200\u001b[0m\u001b[0;34m:\u001b[0m\u001b[0;34m]\u001b[0m\u001b[0;34m\u001b[0m\u001b[0m\n",
      "\u001b[0;31mIndexError\u001b[0m: index 0 is out of bounds for axis 0 with size 0"
     ]
    }
   ],
   "source": [
    "def _flatten(seq):\n",
    "            return np.array([x for y in seq for x in y])\n",
    "\n",
    "truths = _flatten(stock_data_list.test_y[0])[-200:]\n",
    "\n",
    "preds = (_flatten(final_prediction[0]) * multiplier)[-200:]\n",
    "days = range(len(truths))[-200:]\n",
    "\n",
    "plt.figure(figsize=(12, 6))\n",
    "plt.plot(days, truths, label='truth')\n",
    "plt.plot(days, preds, label='pred')\n",
    "plt.legend(loc='upper left', frameon=False)\n",
    "plt.xlabel(\"day\")\n",
    "plt.ylabel(\"normalized price\")\n",
    "plt.ylim((min(truths), max(truths)))\n",
    "plt.grid(ls='--')\n"
   ]
  },
  {
   "cell_type": "code",
   "execution_count": null,
   "metadata": {},
   "outputs": [],
   "source": [
    "\n",
    "   prediction = graph.get_tensor_by_name('pred:0')\n",
    "   loss = graph.get_tensor_by_name('loss_mse_test:0')\n",
    "   test_prediction, test_loss = sess.run([prediction, loss], test_feed_dict)\n",
    "   print(test_prediction)"
   ]
  }
 ],
 "metadata": {
  "kernelspec": {
   "display_name": "Python 3",
   "language": "python",
   "name": "python3"
  },
  "language_info": {
   "codemirror_mode": {
    "name": "ipython",
    "version": 3
   },
   "file_extension": ".py",
   "mimetype": "text/x-python",
   "name": "python",
   "nbconvert_exporter": "python",
   "pygments_lexer": "ipython3",
   "version": "3.6.3"
  }
 },
 "nbformat": 4,
 "nbformat_minor": 2
}
